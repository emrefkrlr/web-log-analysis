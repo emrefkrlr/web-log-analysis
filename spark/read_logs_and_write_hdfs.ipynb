{
 "cells": [
  {
   "cell_type": "code",
   "execution_count": 9,
   "id": "9d60ab0e-7ad6-428d-a6a5-e8fb578cedaa",
   "metadata": {},
   "outputs": [],
   "source": [
    "from pyspark.sql import SparkSession, functions as F\n",
    "\n",
    "# SparkSession\n",
    "spark = SparkSession.builder \\\n",
    "    .appName('ReadLogsAndWriteHDFS') \\\n",
    "    .config('spark.hadoop.fs.defaultFS', 'hdfs://cluster-master:9000') \\\n",
    "    .config('spark.sql.catalogImplementation', 'hive') \\\n",
    "    .config('spark.driver.memory', '2g') \\\n",
    "    .config('spark.executor.memory', '1g') \\\n",
    "    .getOrCreate()"
   ]
  },
  {
   "cell_type": "code",
   "execution_count": 14,
   "id": "e09bb2f4-761e-49cd-ada3-4fb552ea0d78",
   "metadata": {},
   "outputs": [],
   "source": [
    "# Access Logları Okuma\n",
    "access_df = spark.read.text('file:///dataops/logs/access.log*')"
   ]
  },
  {
   "cell_type": "code",
   "execution_count": 15,
   "id": "1d08048c-9dfe-4554-a18c-4bdd47fef609",
   "metadata": {},
   "outputs": [
    {
     "name": "stderr",
     "output_type": "stream",
     "text": [
      "[Stage 0:>                                                          (0 + 1) / 1]\r"
     ]
    },
    {
     "name": "stdout",
     "output_type": "stream",
     "text": [
      "+----------------------------------------------------------------------------------------------------------------------------------------------------------+\n",
      "|value                                                                                                                                                     |\n",
      "+----------------------------------------------------------------------------------------------------------------------------------------------------------+\n",
      "|192.168.100.100 - - [11/Apr/2025:20:45:48 +0000] \"DELETE /static/script.js HTTP/1.1\" 500 447 \"-\" \"Mozilla/5.0 (iPhone; CPU iPhone OS 13_5 like Mac OS X)\" |\n",
      "|192.168.100.100 - - [11/Apr/2025:00:28:44 +0000] \"DELETE /downloads/product_1 HTTP/1.1\" 200 1184 \"-\" \"Mozilla/5.0 (Windows NT 10.0; Win64; x64)\"          |\n",
      "|192.168.100.100 - - [11/Apr/2025:18:02:41 +0000] \"PUT /downloads/product_1 HTTP/1.1\" 301 1286 \"-\" \"Mozilla/5.0 (iPhone; CPU iPhone OS 13_5 like Mac OS X)\"|\n",
      "|192.168.100.100 - - [11/Apr/2025:02:09:16 +0000] \"GET /static/image.jpg HTTP/1.1\" 301 1498 \"-\" \"Wget/1.20.3 (linux-gnu)\"                                  |\n",
      "|192.168.100.100 - - [11/Apr/2025:13:22:59 +0000] \"GET /api/device/status HTTP/1.1\" 301 1447 \"-\" \"Mozilla/5.0 (X11; Ubuntu; Linux x86_64)\"                 |\n",
      "+----------------------------------------------------------------------------------------------------------------------------------------------------------+\n",
      "only showing top 5 rows\n",
      "\n"
     ]
    },
    {
     "name": "stderr",
     "output_type": "stream",
     "text": [
      "                                                                                \r"
     ]
    }
   ],
   "source": [
    "access_df.show(5, truncate=False)"
   ]
  },
  {
   "cell_type": "code",
   "execution_count": 16,
   "id": "2557a2a7-8bac-41b3-8244-2ad00a391d2c",
   "metadata": {},
   "outputs": [],
   "source": [
    "# Access Loglarını Ayrıştırma"
   ]
  },
  {
   "cell_type": "code",
   "execution_count": 17,
   "id": "d3451939-8862-41c2-a4d0-c225f83017b8",
   "metadata": {},
   "outputs": [],
   "source": [
    "access_parse_regexp = r'(\\S+) - - \\[(.*?)\\] \"(\\S+) (\\S+) (\\S+)\" (\\d+) (\\d+|-) \"(.*?)\" \"(.*?)\"'"
   ]
  },
  {
   "cell_type": "code",
   "execution_count": 18,
   "id": "67567744-1a36-40d3-a73a-d9cedf922b5e",
   "metadata": {},
   "outputs": [],
   "source": [
    "access_parsed_df = access_df.select(\n",
    "    F.regexp_extract(\"value\", access_parse_regexp, 1).alias(\"ip\"),\n",
    "    F.to_timestamp(F.regexp_extract(\"value\", access_parse_regexp, 2),\"dd/MMM/yyyy:HH:mm:ss Z\").alias(\"log_timestamp\"),\n",
    "    F.regexp_extract(\"value\", access_parse_regexp, 3).alias(\"log_method\"),\n",
    "    F.regexp_extract(\"value\", access_parse_regexp, 4).alias(\"url\"),\n",
    "    F.regexp_extract(\"value\", access_parse_regexp, 5).alias(\"protocol\"),\n",
    "    F.regexp_extract(\"value\", access_parse_regexp, 6).alias(\"status\"),\n",
    "    F.regexp_extract(\"value\", access_parse_regexp, 7).alias(\"log_size\"),\n",
    "    F.regexp_extract(\"value\", access_parse_regexp, 8).alias(\"referer\"),\n",
    "    F.regexp_extract(\"value\", access_parse_regexp, 9).alias(\"user_agent\")\n",
    ")\n"
   ]
  },
  {
   "cell_type": "code",
   "execution_count": 19,
   "id": "96b77857-8bb6-499b-b4ff-6a515da00133",
   "metadata": {},
   "outputs": [
    {
     "name": "stdout",
     "output_type": "stream",
     "text": [
      "+---------------+-------------------+----------+--------------------+--------+------+--------+-------+------------------------------------------------------+\n",
      "|ip             |log_timestamp      |log_method|url                 |protocol|status|log_size|referer|user_agent                                            |\n",
      "+---------------+-------------------+----------+--------------------+--------+------+--------+-------+------------------------------------------------------+\n",
      "|192.168.100.100|2025-04-11 20:45:48|DELETE    |/static/script.js   |HTTP/1.1|500   |447     |-      |Mozilla/5.0 (iPhone; CPU iPhone OS 13_5 like Mac OS X)|\n",
      "|192.168.100.100|2025-04-11 00:28:44|DELETE    |/downloads/product_1|HTTP/1.1|200   |1184    |-      |Mozilla/5.0 (Windows NT 10.0; Win64; x64)             |\n",
      "|192.168.100.100|2025-04-11 18:02:41|PUT       |/downloads/product_1|HTTP/1.1|301   |1286    |-      |Mozilla/5.0 (iPhone; CPU iPhone OS 13_5 like Mac OS X)|\n",
      "|192.168.100.100|2025-04-11 02:09:16|GET       |/static/image.jpg   |HTTP/1.1|301   |1498    |-      |Wget/1.20.3 (linux-gnu)                               |\n",
      "|192.168.100.100|2025-04-11 13:22:59|GET       |/api/device/status  |HTTP/1.1|301   |1447    |-      |Mozilla/5.0 (X11; Ubuntu; Linux x86_64)               |\n",
      "|192.168.100.100|2025-04-11 00:25:51|PUT       |/home               |HTTP/1.1|200   |3183    |-      |Mozilla/5.0 (iPhone; CPU iPhone OS 13_5 like Mac OS X)|\n",
      "|192.168.100.100|2025-04-11 23:20:25|POST      |/static/script.js   |HTTP/1.1|301   |1163    |-      |Wget/1.20.3 (linux-gnu)                               |\n",
      "|192.168.100.100|2025-04-11 04:58:21|DELETE    |/api/device/status  |HTTP/1.1|200   |1731    |-      |Mozilla/5.0 (Linux; Android 10; SM-G975F)             |\n",
      "|192.168.100.100|2025-04-11 05:53:08|PUT       |/static/image.jpg   |HTTP/1.1|200   |2049    |-      |Mozilla/5.0 (X11; Ubuntu; Linux x86_64)               |\n",
      "|192.168.100.100|2025-04-11 09:55:32|PUT       |/login              |HTTP/1.1|500   |1804    |-      |curl/7.68.0                                           |\n",
      "|192.168.100.100|2025-04-11 14:34:56|DELETE    |/login              |HTTP/1.1|200   |640     |-      |Debian APT-HTTP/1.3 (1.0.1ubuntu2)                    |\n",
      "|192.168.100.100|2025-04-11 14:18:59|POST      |/home               |HTTP/1.1|301   |2769    |-      |Mozilla/5.0 (Linux; Android 10; SM-G975F)             |\n",
      "|192.168.100.100|2025-04-11 12:44:58|POST      |/home               |HTTP/1.1|404   |1716    |-      |Debian APT-HTTP/1.3 (1.0.1ubuntu2)                    |\n",
      "|192.168.100.100|2025-04-11 10:37:05|POST      |/static/image.jpg   |HTTP/1.1|200   |2124    |-      |Wget/1.20.3 (linux-gnu)                               |\n",
      "|192.168.100.100|2025-04-11 15:27:32|PUT       |/login              |HTTP/1.1|200   |3801    |-      |Mozilla/5.0 (Linux; Android 10; SM-G975F)             |\n",
      "+---------------+-------------------+----------+--------------------+--------+------+--------+-------+------------------------------------------------------+\n",
      "only showing top 15 rows\n",
      "\n"
     ]
    }
   ],
   "source": [
    "access_parsed_df.show(15, truncate=False)"
   ]
  },
  {
   "cell_type": "code",
   "execution_count": 21,
   "id": "86ee7c7d-23eb-4e22-9f50-2df841a5122f",
   "metadata": {},
   "outputs": [],
   "source": [
    "# Error Loglarını Okuma ve Ayrıştırma"
   ]
  },
  {
   "cell_type": "code",
   "execution_count": 22,
   "id": "69b517eb-5b6d-4c97-99aa-c30ed316b926",
   "metadata": {},
   "outputs": [],
   "source": [
    "error_df = spark.read.text('file:///dataops/logs/error.log*')"
   ]
  },
  {
   "cell_type": "code",
   "execution_count": 23,
   "id": "6a8d2a9c-3f9f-48fa-bb6c-9eed55121c28",
   "metadata": {},
   "outputs": [
    {
     "name": "stdout",
     "output_type": "stream",
     "text": [
      "+-----------------------------------------------------------------------------------------------------------------------------------------+\n",
      "|value                                                                                                                                    |\n",
      "+-----------------------------------------------------------------------------------------------------------------------------------------+\n",
      "|[14/Apr/2025:08:59:20 +0000] [error] [client 24.147.180.192] script not found or unable to stat: /cgi-bin/test.cgi                       |\n",
      "|[14/Apr/2025:20:56:40 +0000] [error] [client 159.162.98.228] script not found or unable to stat: /cgi-bin/test.cgi                       |\n",
      "|[14/Apr/2025:01:14:59 +0000] [error] [client 160.232.0.253] upstream timed out (110: Connection timed out) while reading response header |\n",
      "|[14/Apr/2025:01:31:46 +0000] [error] [client 193.76.143.129] upstream timed out (110: Connection timed out) while reading response header|\n",
      "|[14/Apr/2025:16:01:31 +0000] [error] [client 135.207.120.68] script not found or unable to stat: /cgi-bin/test.cgi                       |\n",
      "+-----------------------------------------------------------------------------------------------------------------------------------------+\n",
      "only showing top 5 rows\n",
      "\n"
     ]
    }
   ],
   "source": [
    "error_df.show(5, truncate=False)"
   ]
  },
  {
   "cell_type": "code",
   "execution_count": 24,
   "id": "c27cf3c5-cfa1-45a6-9eee-48450e0f7b1a",
   "metadata": {},
   "outputs": [],
   "source": [
    "error_parse_regexp = r'\\[(.*?)\\] \\[(\\w+)\\] \\[client (\\S+)\\] (.*)'"
   ]
  },
  {
   "cell_type": "code",
   "execution_count": 25,
   "id": "000a64cd-ea69-43ca-aefe-1edfba2abd5f",
   "metadata": {},
   "outputs": [],
   "source": [
    "error_parsed_df = error_df.select(\n",
    "    F.to_timestamp(F.regexp_extract(\"value\", error_parse_regexp, 1),\"dd/MMM/yyyy:HH:mm:ss Z\").alias(\"log_timestamp\"),\n",
    "    F.regexp_extract(\"value\", error_parse_regexp, 2).alias(\"level\"),      # Hata seviyesi\n",
    "    F.regexp_extract(\"value\", error_parse_regexp, 3).alias(\"client_ip\"),  # İstemci IP\n",
    "    F.regexp_extract(\"value\", error_parse_regexp, 4).alias(\"message\")     # Hata mesajı\n",
    ")"
   ]
  },
  {
   "cell_type": "code",
   "execution_count": 26,
   "id": "472f0248-9287-48f6-b573-a1731065e9f1",
   "metadata": {},
   "outputs": [
    {
     "name": "stdout",
     "output_type": "stream",
     "text": [
      "+-------------------+-----+--------------+----------------------------------------------------------------------------+\n",
      "|log_timestamp      |level|client_ip     |message                                                                     |\n",
      "+-------------------+-----+--------------+----------------------------------------------------------------------------+\n",
      "|2025-04-14 08:59:20|error|24.147.180.192|script not found or unable to stat: /cgi-bin/test.cgi                       |\n",
      "|2025-04-14 20:56:40|error|159.162.98.228|script not found or unable to stat: /cgi-bin/test.cgi                       |\n",
      "|2025-04-14 01:14:59|error|160.232.0.253 |upstream timed out (110: Connection timed out) while reading response header|\n",
      "|2025-04-14 01:31:46|error|193.76.143.129|upstream timed out (110: Connection timed out) while reading response header|\n",
      "|2025-04-14 16:01:31|error|135.207.120.68|script not found or unable to stat: /cgi-bin/test.cgi                       |\n",
      "+-------------------+-----+--------------+----------------------------------------------------------------------------+\n",
      "only showing top 5 rows\n",
      "\n"
     ]
    }
   ],
   "source": [
    "error_parsed_df.show(5, truncate=False)"
   ]
  },
  {
   "cell_type": "code",
   "execution_count": 27,
   "id": "7ec264a7-1725-4861-a62f-a23c863ac421",
   "metadata": {},
   "outputs": [],
   "source": [
    "# DataFramelere Date Alanı Ekleme"
   ]
  },
  {
   "cell_type": "code",
   "execution_count": 28,
   "id": "0529e2d6-a3d5-4a36-9434-14ce1d2d2a95",
   "metadata": {},
   "outputs": [],
   "source": [
    "access_parsed_df = access_parsed_df.withColumn(\"log_date\", F.to_date(access_parsed_df.log_timestamp, \"dd/MMM/yyyy\"))"
   ]
  },
  {
   "cell_type": "code",
   "execution_count": 29,
   "id": "a0e61a82-a1d6-4b67-92fb-713a5611b96a",
   "metadata": {
    "scrolled": true
   },
   "outputs": [
    {
     "name": "stdout",
     "output_type": "stream",
     "text": [
      "+---------------+-------------------+----------+--------------------+--------+------+--------+-------+------------------------------------------------------+----------+\n",
      "|ip             |log_timestamp      |log_method|url                 |protocol|status|log_size|referer|user_agent                                            |log_date  |\n",
      "+---------------+-------------------+----------+--------------------+--------+------+--------+-------+------------------------------------------------------+----------+\n",
      "|192.168.100.100|2025-04-11 20:45:48|DELETE    |/static/script.js   |HTTP/1.1|500   |447     |-      |Mozilla/5.0 (iPhone; CPU iPhone OS 13_5 like Mac OS X)|2025-04-11|\n",
      "|192.168.100.100|2025-04-11 00:28:44|DELETE    |/downloads/product_1|HTTP/1.1|200   |1184    |-      |Mozilla/5.0 (Windows NT 10.0; Win64; x64)             |2025-04-11|\n",
      "|192.168.100.100|2025-04-11 18:02:41|PUT       |/downloads/product_1|HTTP/1.1|301   |1286    |-      |Mozilla/5.0 (iPhone; CPU iPhone OS 13_5 like Mac OS X)|2025-04-11|\n",
      "|192.168.100.100|2025-04-11 02:09:16|GET       |/static/image.jpg   |HTTP/1.1|301   |1498    |-      |Wget/1.20.3 (linux-gnu)                               |2025-04-11|\n",
      "|192.168.100.100|2025-04-11 13:22:59|GET       |/api/device/status  |HTTP/1.1|301   |1447    |-      |Mozilla/5.0 (X11; Ubuntu; Linux x86_64)               |2025-04-11|\n",
      "+---------------+-------------------+----------+--------------------+--------+------+--------+-------+------------------------------------------------------+----------+\n",
      "only showing top 5 rows\n",
      "\n"
     ]
    }
   ],
   "source": [
    "access_parsed_df.show(5, truncate=False)"
   ]
  },
  {
   "cell_type": "code",
   "execution_count": 30,
   "id": "3871b98d-2e41-43be-8087-ccec3df0cad5",
   "metadata": {},
   "outputs": [],
   "source": [
    "error_parsed_df = error_parsed_df.withColumn(\"log_date\", F.to_date(error_parsed_df.log_timestamp, \"dd/MMM/yyyy\"))"
   ]
  },
  {
   "cell_type": "code",
   "execution_count": 31,
   "id": "b6d4d967-731e-469e-aebe-7a4513af6b3b",
   "metadata": {},
   "outputs": [
    {
     "name": "stdout",
     "output_type": "stream",
     "text": [
      "+-------------------+-----+--------------+----------------------------------------------------------------------------+----------+\n",
      "|log_timestamp      |level|client_ip     |message                                                                     |log_date  |\n",
      "+-------------------+-----+--------------+----------------------------------------------------------------------------+----------+\n",
      "|2025-04-14 08:59:20|error|24.147.180.192|script not found or unable to stat: /cgi-bin/test.cgi                       |2025-04-14|\n",
      "|2025-04-14 20:56:40|error|159.162.98.228|script not found or unable to stat: /cgi-bin/test.cgi                       |2025-04-14|\n",
      "|2025-04-14 01:14:59|error|160.232.0.253 |upstream timed out (110: Connection timed out) while reading response header|2025-04-14|\n",
      "|2025-04-14 01:31:46|error|193.76.143.129|upstream timed out (110: Connection timed out) while reading response header|2025-04-14|\n",
      "|2025-04-14 16:01:31|error|135.207.120.68|script not found or unable to stat: /cgi-bin/test.cgi                       |2025-04-14|\n",
      "+-------------------+-----+--------------+----------------------------------------------------------------------------+----------+\n",
      "only showing top 5 rows\n",
      "\n"
     ]
    }
   ],
   "source": [
    "error_parsed_df.show(5, truncate=False)"
   ]
  },
  {
   "cell_type": "code",
   "execution_count": 32,
   "id": "2ac93da7-d25a-4638-bd12-73c0dcd99930",
   "metadata": {},
   "outputs": [],
   "source": [
    "# Parquet Formatında Tarih Alanına Göre Partition Alarak HDFS' e Yazma"
   ]
  },
  {
   "cell_type": "code",
   "execution_count": 34,
   "id": "7a7699a6-448c-4fb5-990d-2095de2f9f1c",
   "metadata": {},
   "outputs": [
    {
     "name": "stderr",
     "output_type": "stream",
     "text": [
      "                                                                                \r"
     ]
    }
   ],
   "source": [
    "access_parsed_df.write \\\n",
    "    .partitionBy('log_date') \\\n",
    "    .mode('append') \\\n",
    "    .parquet('hdfs://cluster-master:9000/logs/access')"
   ]
  },
  {
   "cell_type": "code",
   "execution_count": 35,
   "id": "6fd398de-61a2-4f0f-8776-5fa91a3b87b2",
   "metadata": {},
   "outputs": [
    {
     "name": "stderr",
     "output_type": "stream",
     "text": [
      "                                                                                \r"
     ]
    }
   ],
   "source": [
    "error_parsed_df.write \\\n",
    "    .partitionBy('log_date') \\\n",
    "    .mode('append') \\\n",
    "    .parquet('hdfs://cluster-master:9000/logs/errors')"
   ]
  },
  {
   "cell_type": "code",
   "execution_count": 73,
   "id": "6d900c92-0c03-48d8-a6ea-07393b92059f",
   "metadata": {},
   "outputs": [],
   "source": [
    "spark.stop()"
   ]
  },
  {
   "cell_type": "code",
   "execution_count": null,
   "id": "bd371d63-a342-4daa-a6ee-b5534b9d7184",
   "metadata": {},
   "outputs": [],
   "source": []
  }
 ],
 "metadata": {
  "kernelspec": {
   "display_name": "Python 3 (ipykernel)",
   "language": "python",
   "name": "python3"
  },
  "language_info": {
   "codemirror_mode": {
    "name": "ipython",
    "version": 3
   },
   "file_extension": ".py",
   "mimetype": "text/x-python",
   "name": "python",
   "nbconvert_exporter": "python",
   "pygments_lexer": "ipython3",
   "version": "3.10.13"
  }
 },
 "nbformat": 4,
 "nbformat_minor": 5
}
